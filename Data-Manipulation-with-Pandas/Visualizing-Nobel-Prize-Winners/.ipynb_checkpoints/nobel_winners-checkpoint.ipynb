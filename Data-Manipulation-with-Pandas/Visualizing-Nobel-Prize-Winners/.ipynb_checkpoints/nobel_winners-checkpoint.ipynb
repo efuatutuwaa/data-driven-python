{
 "cells": [
  {
   "metadata": {
    "ExecuteTime": {
     "end_time": "2024-10-27T05:34:44.507710Z",
     "start_time": "2024-10-27T05:34:44.504182Z"
    }
   },
   "cell_type": "code",
   "source": [
    "import pandas as pd\n",
    "import numpy as np\n",
    "import seaborn as sns\n",
    "import matplotlib.pyplot as plt"
   ],
   "id": "133a631cc90bf891",
   "outputs": [],
   "execution_count": 27
  },
  {
   "metadata": {
    "ExecuteTime": {
     "end_time": "2024-10-29T20:10:13.636632Z",
     "start_time": "2024-10-29T20:10:13.598920Z"
    }
   },
   "cell_type": "code",
   "source": [
    "nobel_df = pd.read_csv('nobel.csv')\n",
    "\n",
    "# inspecting the first five rows\n",
    "print(nobel_df.head())\n",
    "\n",
    "# checking data types \n",
    "print(nobel_df.dtypes)\n",
    "\n",
    "\n",
    "# checking missing values \n",
    "print(nobel_df.isna().sum())\n",
    "\n",
    "# dropping missing values\n",
    "\n",
    "threshold = len(nobel_df) * 0.05\n",
    "print(threshold)\n",
    "\n",
    "cols_to_drop = nobel_df.columns[nobel_df.isna().sum() <= threshold]\n",
    "print(cols_to_drop)\n"
   ],
   "id": "a26719da3284da92",
   "outputs": [
    {
     "name": "stdout",
     "output_type": "stream",
     "text": [
      "   year    category                                           prize  \\\n",
      "0  1901   Chemistry               The Nobel Prize in Chemistry 1901   \n",
      "1  1901  Literature              The Nobel Prize in Literature 1901   \n",
      "2  1901    Medicine  The Nobel Prize in Physiology or Medicine 1901   \n",
      "3  1901       Peace                      The Nobel Peace Prize 1901   \n",
      "4  1901       Peace                      The Nobel Peace Prize 1901   \n",
      "\n",
      "                                          motivation prize_share  laureate_id  \\\n",
      "0  \"in recognition of the extraordinary services ...         1/1          160   \n",
      "1  \"in special recognition of his poetic composit...         1/1          569   \n",
      "2  \"for his work on serum therapy, especially its...         1/1          293   \n",
      "3                                                NaN         1/2          462   \n",
      "4                                                NaN         1/2          463   \n",
      "\n",
      "  laureate_type                     full_name  birth_date         birth_city  \\\n",
      "0    Individual  Jacobus Henricus van 't Hoff  1852-08-30          Rotterdam   \n",
      "1    Individual               Sully Prudhomme  1839-03-16              Paris   \n",
      "2    Individual        Emil Adolf von Behring  1854-03-15  Hansdorf (Lawice)   \n",
      "3    Individual             Jean Henry Dunant  1828-05-08             Geneva   \n",
      "4    Individual                Frédéric Passy  1822-05-20              Paris   \n",
      "\n",
      "      birth_country   sex   organization_name organization_city  \\\n",
      "0       Netherlands  Male   Berlin University            Berlin   \n",
      "1            France  Male                 NaN               NaN   \n",
      "2  Prussia (Poland)  Male  Marburg University           Marburg   \n",
      "3       Switzerland  Male                 NaN               NaN   \n",
      "4            France  Male                 NaN               NaN   \n",
      "\n",
      "  organization_country  death_date death_city death_country  \n",
      "0              Germany  1911-03-01     Berlin       Germany  \n",
      "1                  NaN  1907-09-07   Châtenay        France  \n",
      "2              Germany  1917-03-31    Marburg       Germany  \n",
      "3                  NaN  1910-10-30     Heiden   Switzerland  \n",
      "4                  NaN  1912-06-12      Paris        France  \n",
      "year                     int64\n",
      "category                object\n",
      "prize                   object\n",
      "motivation              object\n",
      "prize_share             object\n",
      "laureate_id              int64\n",
      "laureate_type           object\n",
      "full_name               object\n",
      "birth_date              object\n",
      "birth_city              object\n",
      "birth_country           object\n",
      "sex                     object\n",
      "organization_name       object\n",
      "organization_city       object\n",
      "organization_country    object\n",
      "death_date              object\n",
      "death_city              object\n",
      "death_country           object\n",
      "dtype: object\n",
      "year                      0\n",
      "category                  0\n",
      "prize                     0\n",
      "motivation               88\n",
      "prize_share               0\n",
      "laureate_id               0\n",
      "laureate_type             0\n",
      "full_name                 0\n",
      "birth_date               32\n",
      "birth_city               36\n",
      "birth_country            31\n",
      "sex                      30\n",
      "organization_name       264\n",
      "organization_city       265\n",
      "organization_country    265\n",
      "death_date              404\n",
      "death_city              421\n",
      "death_country           415\n",
      "dtype: int64\n",
      "50.0\n",
      "Index(['year', 'category', 'prize', 'prize_share', 'laureate_id',\n",
      "       'laureate_type', 'full_name', 'birth_date', 'birth_city',\n",
      "       'birth_country', 'sex'],\n",
      "      dtype='object')\n"
     ]
    }
   ],
   "execution_count": 186
  },
  {
   "metadata": {},
   "cell_type": "code",
   "outputs": [],
   "execution_count": null,
   "source": "",
   "id": "3bfdc5e2180b2858"
  }
 ],
 "metadata": {
  "kernelspec": {
   "display_name": "Python 3",
   "language": "python",
   "name": "python3"
  },
  "language_info": {
   "codemirror_mode": {
    "name": "ipython",
    "version": 2
   },
   "file_extension": ".py",
   "mimetype": "text/x-python",
   "name": "python",
   "nbconvert_exporter": "python",
   "pygments_lexer": "ipython2",
   "version": "2.7.6"
  }
 },
 "nbformat": 4,
 "nbformat_minor": 5
}
