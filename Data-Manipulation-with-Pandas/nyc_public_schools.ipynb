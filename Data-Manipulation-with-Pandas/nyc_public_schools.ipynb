{
 "cells": [
  {
   "cell_type": "code",
   "id": "initial_id",
   "metadata": {
    "collapsed": true,
    "ExecuteTime": {
     "end_time": "2024-09-26T00:16:02.194119Z",
     "start_time": "2024-09-26T00:16:01.227411Z"
    }
   },
   "source": "import pandas as pd",
   "outputs": [],
   "execution_count": 1
  },
  {
   "metadata": {
    "ExecuteTime": {
     "end_time": "2024-09-26T00:16:55.095119Z",
     "start_time": "2024-09-26T00:16:55.065754Z"
    }
   },
   "cell_type": "code",
   "source": [
    "schools = pd.read_csv('schools.csv')\n",
    "\n",
    "#inspecting DataFrame \n",
    "\n",
    "print(schools.head())\n"
   ],
   "id": "4d80dafbd96c91c9",
   "outputs": [
    {
     "name": "stdout",
     "output_type": "stream",
     "text": [
      "                                         school_name    borough building_code  \\\n",
      "0  New Explorations into Science, Technology and ...  Manhattan          M022   \n",
      "1                               Essex Street Academy  Manhattan          M445   \n",
      "2                       Lower Manhattan Arts Academy  Manhattan          M445   \n",
      "3    High School for Dual Language and Asian Studies  Manhattan          M445   \n",
      "4      Henry Street School for International Studies  Manhattan          M056   \n",
      "\n",
      "   average_math  average_reading  average_writing  percent_tested  \n",
      "0           657              601              601             NaN  \n",
      "1           395              411              387            78.9  \n",
      "2           418              428              415            65.1  \n",
      "3           613              453              463            95.9  \n",
      "4           410              406              381            59.7  \n"
     ]
    }
   ],
   "execution_count": 2
  },
  {
   "metadata": {
    "ExecuteTime": {
     "end_time": "2024-09-26T00:20:53.256975Z",
     "start_time": "2024-09-26T00:20:53.250604Z"
    }
   },
   "cell_type": "code",
   "source": [
    "#checking out null_values \n",
    "null_values = schools.isna().sum()\n",
    "print(null_values)"
   ],
   "id": "a5f196325bd2015d",
   "outputs": [
    {
     "name": "stdout",
     "output_type": "stream",
     "text": [
      "school_name         0\n",
      "borough             0\n",
      "building_code       0\n",
      "average_math        0\n",
      "average_reading     0\n",
      "average_writing     0\n",
      "percent_tested     20\n",
      "dtype: int64\n"
     ]
    }
   ],
   "execution_count": 5
  },
  {
   "metadata": {
    "ExecuteTime": {
     "end_time": "2024-09-26T00:29:27.000636Z",
     "start_time": "2024-09-26T00:29:26.985500Z"
    }
   },
   "cell_type": "code",
   "source": [
    "#determining the threshold for the best math results if max_score is 800 \n",
    "\n",
    "possible_max_score = 800 \n",
    "threshold = 0.80 * possible_max_score\n",
    "\n",
    "#using threshold to create a DataFrame for best  math schools \n",
    "\n",
    "best_math_schools = schools[schools['average_math'] > threshold][['school_name', 'average_math']].sort_values(by='average_math', ascending=False)\n",
    "\n",
    "print(best_math_schools)\n"
   ],
   "id": "4df82af06d52d821",
   "outputs": [
    {
     "name": "stdout",
     "output_type": "stream",
     "text": [
      "                                           school_name  average_math\n",
      "88                              Stuyvesant High School           754\n",
      "170                       Bronx High School of Science           714\n",
      "93                 Staten Island Technical High School           711\n",
      "365  Queens High School for the Sciences at York Co...           701\n",
      "68   High School for Mathematics, Science, and Engi...           683\n",
      "280                     Brooklyn Technical High School           682\n",
      "333                        Townsend Harris High School           680\n",
      "174  High School of American Studies at Lehman College           669\n",
      "0    New Explorations into Science, Technology and ...           657\n",
      "45                       Eleanor Roosevelt High School           641\n"
     ]
    }
   ],
   "execution_count": 7
  },
  {
   "metadata": {
    "ExecuteTime": {
     "end_time": "2024-09-26T00:31:27.005479Z",
     "start_time": "2024-09-26T00:31:26.995500Z"
    }
   },
   "cell_type": "code",
   "source": [
    "# calculating total SAT scores \n",
    "\n",
    "schools['total_SAT'] = schools['average_math'] + schools['average_reading'] + schools['average_writing']\n",
    "\n",
    "print(schools.head())"
   ],
   "id": "159db32c88233f57",
   "outputs": [
    {
     "name": "stdout",
     "output_type": "stream",
     "text": [
      "                                         school_name    borough building_code  \\\n",
      "0  New Explorations into Science, Technology and ...  Manhattan          M022   \n",
      "1                               Essex Street Academy  Manhattan          M445   \n",
      "2                       Lower Manhattan Arts Academy  Manhattan          M445   \n",
      "3    High School for Dual Language and Asian Studies  Manhattan          M445   \n",
      "4      Henry Street School for International Studies  Manhattan          M056   \n",
      "\n",
      "   average_math  average_reading  average_writing  percent_tested  total_SAT  \n",
      "0           657              601              601             NaN       1859  \n",
      "1           395              411              387            78.9       1193  \n",
      "2           418              428              415            65.1       1261  \n",
      "3           613              453              463            95.9       1529  \n",
      "4           410              406              381            59.7       1197  \n"
     ]
    }
   ],
   "execution_count": 8
  },
  {
   "metadata": {
    "ExecuteTime": {
     "end_time": "2024-09-26T00:32:04.541115Z",
     "start_time": "2024-09-26T00:32:04.535620Z"
    }
   },
   "cell_type": "code",
   "source": [
    "top_ten_schools = schools.sort_values(by='total_SAT', ascending=False).head(10)\n",
    "print(top_ten_schools)"
   ],
   "id": "4b064eb694ccbfd0",
   "outputs": [
    {
     "name": "stdout",
     "output_type": "stream",
     "text": [
      "                                           school_name        borough  \\\n",
      "88                              Stuyvesant High School      Manhattan   \n",
      "170                       Bronx High School of Science          Bronx   \n",
      "93                 Staten Island Technical High School  Staten Island   \n",
      "174  High School of American Studies at Lehman College          Bronx   \n",
      "333                        Townsend Harris High School         Queens   \n",
      "365  Queens High School for the Sciences at York Co...         Queens   \n",
      "5                       Bard High School Early College      Manhattan   \n",
      "280                     Brooklyn Technical High School       Brooklyn   \n",
      "45                       Eleanor Roosevelt High School      Manhattan   \n",
      "68   High School for Mathematics, Science, and Engi...      Manhattan   \n",
      "\n",
      "    building_code  average_math  average_reading  average_writing  \\\n",
      "88           M477           754              697              693   \n",
      "170          X445           714              660              667   \n",
      "93           R440           711              660              670   \n",
      "174          X905           669              672              672   \n",
      "333          Q515           680              640              661   \n",
      "365          Q774           701              621              625   \n",
      "5            M097           634              641              639   \n",
      "280          K430           682              608              606   \n",
      "45           M855           641              617              631   \n",
      "68           M812           683              610              596   \n",
      "\n",
      "     percent_tested  total_SAT  \n",
      "88             97.4       2144  \n",
      "170            97.0       2041  \n",
      "93             99.7       2041  \n",
      "174            91.8       2013  \n",
      "333            97.1       1981  \n",
      "365            97.9       1947  \n",
      "5              70.8       1914  \n",
      "280            95.5       1896  \n",
      "45             86.0       1889  \n",
      "68             92.6       1889  \n"
     ]
    }
   ],
   "execution_count": 10
  },
  {
   "metadata": {
    "ExecuteTime": {
     "end_time": "2024-09-26T00:38:19.622475Z",
     "start_time": "2024-09-26T00:38:19.616268Z"
    }
   },
   "cell_type": "code",
   "source": [
    "# boroughs with the largest standard deviation in total SAT scores\n",
    "\n",
    "boroughs = schools.groupby('borough')['total_SAT'].agg(['count','mean','std']).round(2)\n",
    "print(boroughs)"
   ],
   "id": "16038db5ca5ddc1",
   "outputs": [
    {
     "name": "stdout",
     "output_type": "stream",
     "text": [
      "               count     mean     std\n",
      "borough                              \n",
      "Bronx             98  1202.72  150.39\n",
      "Brooklyn         109  1230.26  154.87\n",
      "Manhattan         89  1340.13  230.29\n",
      "Queens            69  1345.48  195.25\n",
      "Staten Island     10  1439.00  222.30\n"
     ]
    }
   ],
   "execution_count": 13
  },
  {
   "metadata": {
    "ExecuteTime": {
     "end_time": "2024-09-26T00:38:27.523950Z",
     "start_time": "2024-09-26T00:38:27.520595Z"
    }
   },
   "cell_type": "code",
   "source": [
    "max_std = boroughs['std'].max()\n",
    "print(max_std)"
   ],
   "id": "895cf058b7d74644",
   "outputs": [
    {
     "name": "stdout",
     "output_type": "stream",
     "text": [
      "230.29\n"
     ]
    }
   ],
   "execution_count": 14
  },
  {
   "metadata": {
    "ExecuteTime": {
     "end_time": "2024-09-26T00:40:56.535647Z",
     "start_time": "2024-09-26T00:40:56.512966Z"
    }
   },
   "cell_type": "code",
   "source": [
    "largest_std_dev = boroughs[boroughs['std'] == max_std]\n",
    "\n",
    "largest_std_dev.columns = ['num_schools','average_SAT','std_SAT']\n",
    "print(largest_std_dev)\n"
   ],
   "id": "c7f31e45482cfc47",
   "outputs": [
    {
     "name": "stdout",
     "output_type": "stream",
     "text": [
      "           num_schools  average_SAT  std_SAT\n",
      "borough                                     \n",
      "Manhattan           89      1340.13   230.29\n"
     ]
    }
   ],
   "execution_count": 15
  },
  {
   "metadata": {},
   "cell_type": "code",
   "outputs": [],
   "execution_count": null,
   "source": "",
   "id": "df2efcbf3944e7d1"
  }
 ],
 "metadata": {
  "kernelspec": {
   "display_name": "Python 3",
   "language": "python",
   "name": "python3"
  },
  "language_info": {
   "codemirror_mode": {
    "name": "ipython",
    "version": 2
   },
   "file_extension": ".py",
   "mimetype": "text/x-python",
   "name": "python",
   "nbconvert_exporter": "python",
   "pygments_lexer": "ipython2",
   "version": "2.7.6"
  }
 },
 "nbformat": 4,
 "nbformat_minor": 5
}
