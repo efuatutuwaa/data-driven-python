{
 "cells": [
  {
   "cell_type": "code",
   "id": "initial_id",
   "metadata": {
    "collapsed": true
   },
   "source": [
    "# importing libraries \n",
    "import pandas as pd\n",
    "import matplotlib.pyplot as plt\n",
    "\n",
    "\n",
    "netflix_df = pd.read_csv('netflix_data.csv', index_col=0)\n",
    "\n",
    "#inspecting the data \n",
    "print(netflix_df.head())"
   ],
   "outputs": [],
   "execution_count": null
  },
  {
   "metadata": {},
   "cell_type": "code",
   "source": [
    "# summary statistics of the data \n",
    "print(netflix_df.describe())"
   ],
   "id": "bcfb43b2a03ba264",
   "outputs": [],
   "execution_count": null
  },
  {
   "metadata": {},
   "cell_type": "code",
   "source": [
    "# checking for null values \n",
    "print(netflix_df.isna().sum())"
   ],
   "id": "16463f6ac40528df",
   "outputs": [],
   "execution_count": null
  },
  {
   "metadata": {},
   "cell_type": "code",
   "source": [
    "# beginning the analysis \n",
    "movies_in_the_1990s = netflix_df[(netflix_df['release_year'] >= 1990) & (netflix_df['release_year'] < 2000) \n",
    "& (netflix_df['type'].str.lower() == 'movie')]\n",
    "\n",
    "print(movies_in_the_1990s.head())\n"
   ],
   "id": "52fcfe0cd106e808",
   "outputs": [],
   "execution_count": null
  },
  {
   "metadata": {
    "ExecuteTime": {
     "end_time": "2024-09-26T20:15:03.490088Z",
     "start_time": "2024-09-26T20:15:03.474796Z"
    }
   },
   "cell_type": "code",
   "source": [
    "# filtering out action movies only \n",
    "\n",
    "action_movies_1990 = movies_in_the_1990s[movies_in_the_1990s['genre'].str.lower() == 'action']\n",
    "print(action_movies_1990.shape)"
   ],
   "id": "daedc5c545ceb119",
   "outputs": [
    {
     "name": "stdout",
     "output_type": "stream",
     "text": [
      "(48, 10)\n"
     ]
    }
   ],
   "execution_count": 74
  },
  {
   "metadata": {
    "ExecuteTime": {
     "end_time": "2024-09-26T19:31:12.059265Z",
     "start_time": "2024-09-26T19:31:11.964934Z"
    }
   },
   "cell_type": "code",
   "source": [
    "#creating a visualization \n",
    "plt.hist(action_movies_1990['duration'])\n",
    "plt.xlabel('Duration')\n",
    "plt.ylabel('Number of movies')\n",
    "plt.title('Distribution of action movies in 1990s')\n",
    "plt.show()"
   ],
   "id": "b5ee34788283dfe2",
   "outputs": [
    {
     "data": {
      "text/plain": [
       "<Figure size 640x480 with 1 Axes>"
      ],
      "image/png": "[encoded data removed]"
     },
     "metadata": {},
     "output_type": "display_data"
    }
   ],
   "execution_count": 69
  },
  {
   "metadata": {
    "ExecuteTime": {
     "end_time": "2024-09-26T20:07:49.129832Z",
     "start_time": "2024-09-26T20:07:49.052389Z"
    }
   },
   "cell_type": "code",
   "source": [
    "# summary stats (duration) of action movies in the 1990s\n",
    "movie_stats = action_movies_1990['duration'].agg([ 'min','max','mean', 'median','std']).round(2)\n",
    "print(movie_stats)"
   ],
   "id": "bd07361aa5d728d6",
   "outputs": [
    {
     "name": "stdout",
     "output_type": "stream",
     "text": [
      "min        69.00\n",
      "max       191.00\n",
      "mean      120.15\n",
      "median    112.50\n",
      "std        28.80\n",
      "Name: duration, dtype: float64\n"
     ]
    }
   ],
   "execution_count": 70
  },
  {
   "metadata": {
    "ExecuteTime": {
     "end_time": "2024-09-26T20:25:05.952694Z",
     "start_time": "2024-09-26T20:25:05.944990Z"
    }
   },
   "cell_type": "code",
   "source": [
    "#checking for outliers in movies \n",
    "def iqr(q3, q1):\n",
    "    return q3 - q1\n",
    "\n",
    "first_percentile = movies_in_the_1990s['duration'].quantile(0.25)\n",
    "third_percentile = movies_in_the_1990s['duration'].quantile(0.75)\n",
    "\n",
    "iqr_value = iqr(third_percentile, first_percentile)\n",
    "lower_bound = first_percentile - 1.5 *  iqr_value\n",
    "upper_bound = third_percentile + 1.5 * iqr_value\n",
    "\n",
    "outliers = movies_in_the_1990s[(movies_in_the_1990s['duration'] < lower_bound) | (movies_in_the_1990s['duration'] > upper_bound)].sort_values(by='duration', ascending=False)\n",
    "\n",
    "print(outliers)\n",
    "\n",
    "count_of_outliers = outliers['title'].count()\n",
    "print(count_of_outliers)\n"
   ],
   "id": "5a35376d795f12d1",
   "outputs": [
    {
     "name": "stdout",
     "output_type": "stream",
     "text": [
      "          type                        title          director        cast  \\\n",
      "show_id                                                                     \n",
      "s7090    Movie      Tim Allen: Men Are Pigs       Ellen Brown   Tim Allen   \n",
      "s920     Movie  Bill Hicks: One Night Stand  John Fortenberry  Bill Hicks   \n",
      "\n",
      "                country         date_added  release_year  duration  \\\n",
      "show_id                                                              \n",
      "s7090     United States  December 31, 2018          1990        30   \n",
      "s920     United Kingdom  December 31, 2018          1991        28   \n",
      "\n",
      "                                               description     genre  \n",
      "show_id                                                               \n",
      "s7090    Standup comedian Tim Allen delivers a set dedi...  Stand-Up  \n",
      "s920     Bill Hicks remembers a wild night in 1989 and ...  Stand-Up  \n",
      "2\n"
     ]
    }
   ],
   "execution_count": 76
  },
  {
   "metadata": {
    "ExecuteTime": {
     "end_time": "2024-09-26T20:32:23.881665Z",
     "start_time": "2024-09-26T20:32:23.808613Z"
    }
   },
   "cell_type": "code",
   "source": [
    "# creating a visualization for outliers \n",
    "\n",
    "outlier_counts = outliers['duration'].value_counts()\n",
    "plt.bar(outlier_counts.index, outlier_counts.values)\n",
    "plt.xlabel('Duration')\n",
    "plt.ylabel('Number of Movies')\n",
    "plt.title('Distribution of Outliers in 1990s')\n",
    "plt.show()\n"
   ],
   "id": "87295930424fff55",
   "outputs": [
    {
     "data": {
      "text/plain": [
       "<Figure size 640x480 with 1 Axes>"
      ],
      "image/png": "[encoded data removed]"
     },
     "metadata": {},
     "output_type": "display_data"
    }
   ],
   "execution_count": 80
  },
  {
   "metadata": {
    "ExecuteTime": {
     "end_time": "2024-09-26T20:08:14.403104Z",
     "start_time": "2024-09-26T20:08:14.396266Z"
    }
   },
   "cell_type": "code",
   "source": [
    "# final analysis -- action movies below 90 minutes \n",
    "short_movies_count = (action_movies_1990['duration'] < 90).sum()\n",
    "print(short_movies_count)\n",
    "\n",
    "#using a for loop \n",
    "\n",
    "count_of_short_movies = 0 \n",
    "\n",
    "for lab,row in action_movies_1990.iterrows():\n",
    "    count_of_short_movies += row['duration'] < 90\n",
    "print(count_of_short_movies)\n",
    "\n"
   ],
   "id": "dbd747cc129eb49f",
   "outputs": [
    {
     "name": "stdout",
     "output_type": "stream",
     "text": [
      "7\n",
      "7\n"
     ]
    }
   ],
   "execution_count": 72
  },
  {
   "metadata": {},
   "cell_type": "code",
   "source": [
    "# filtering out the short movies \n",
    "\n",
    "short_movies_df = action_movies_1990[action_movies_1990['duration'] < 90].sort_values(by='duration', ascending=False)\n",
    "print(short_movies_df[['title','release_year','duration']])"
   ],
   "id": "9e706cd243ef6418",
   "outputs": [],
   "execution_count": null
  },
  {
   "metadata": {},
   "cell_type": "code",
   "outputs": [],
   "execution_count": null,
   "source": "",
   "id": "d544cfc5524200e6"
  }
 ],
 "metadata": {
  "kernelspec": {
   "display_name": "Python 3",
   "language": "python",
   "name": "python3"
  },
  "language_info": {
   "codemirror_mode": {
    "name": "ipython",
    "version": 2
   },
   "file_extension": ".py",
   "mimetype": "text/x-python",
   "name": "python",
   "nbconvert_exporter": "python",
   "pygments_lexer": "ipython2",
   "version": "2.7.6"
  }
 },
 "nbformat": 4,
 "nbformat_minor": 5
}
